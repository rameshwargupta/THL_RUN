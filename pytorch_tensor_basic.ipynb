{
  "nbformat": 4,
  "nbformat_minor": 0,
  "metadata": {
    "colab": {
      "provenance": [],
      "gpuType": "T4",
      "authorship_tag": "ABX9TyPTjtuUtTiOESvJY147FvZB",
      "include_colab_link": true
    },
    "kernelspec": {
      "name": "python3",
      "display_name": "Python 3"
    },
    "language_info": {
      "name": "python"
    },
    "accelerator": "GPU"
  },
  "cells": [
    {
      "cell_type": "markdown",
      "metadata": {
        "id": "view-in-github",
        "colab_type": "text"
      },
      "source": [
        "<a href=\"https://colab.research.google.com/github/rameshwargupta/THL_RUN/blob/master/pytorch_tensor_basic.ipynb\" target=\"_parent\"><img src=\"https://colab.research.google.com/assets/colab-badge.svg\" alt=\"Open In Colab\"/></a>"
      ]
    },
    {
      "cell_type": "code",
      "execution_count": 102,
      "metadata": {
        "colab": {
          "base_uri": "https://localhost:8080/"
        },
        "id": "JbrCOkGdiB2X",
        "outputId": "10c7f9e6-2f4a-4e68-8176-4fdbac576274"
      },
      "outputs": [
        {
          "output_type": "stream",
          "name": "stdout",
          "text": [
            "2.6.0+cu124\n"
          ]
        }
      ],
      "source": [
        "import torch\n",
        "print (torch.__version__)"
      ]
    },
    {
      "cell_type": "markdown",
      "source": [
        "checking gpu"
      ],
      "metadata": {
        "id": "xk7TNRw6ioNW"
      }
    },
    {
      "cell_type": "code",
      "source": [
        "\n",
        "print (\"gpu is avialbale\") #togo runtime option to chnage cpu or gpu\n",
        "print (torch.cuda.get_device_name)\n",
        "print (torch.cuda.get_device_capability)\n",
        "print(torch.cuda.device_count)\n",
        "print (torch.cuda.temperature)\n",
        "\n",
        "print (torch.cuda.get_device_name)"
      ],
      "metadata": {
        "colab": {
          "base_uri": "https://localhost:8080/"
        },
        "id": "sfIx-6fyiuJO",
        "outputId": "05a79588-1bea-4e92-f1b6-0c1ed758dd49"
      },
      "execution_count": 23,
      "outputs": [
        {
          "output_type": "stream",
          "name": "stdout",
          "text": [
            "gpu is avialbale\n",
            "<function get_device_name at 0x7d07487b1b20>\n",
            "<function get_device_capability at 0x7d07487b1bc0>\n",
            "<function device_count at 0x7d07487b2700>\n",
            "<function temperature at 0x7d07487b3560>\n",
            "<function get_device_name at 0x7d07487b1b20>\n"
          ]
        }
      ]
    },
    {
      "cell_type": "markdown",
      "source": [
        "creating a tensor"
      ],
      "metadata": {
        "id": "tUkTQTi1knoZ"
      }
    },
    {
      "cell_type": "code",
      "source": [
        "torch.empty(2,3)"
      ],
      "metadata": {
        "colab": {
          "base_uri": "https://localhost:8080/"
        },
        "id": "DWZ2sNnQkqMR",
        "outputId": "243ab001-428a-4a62-fb83-13ea59f26254"
      },
      "execution_count": 8,
      "outputs": [
        {
          "output_type": "execute_result",
          "data": {
            "text/plain": [
              "tensor([[-1.8942e-30,  4.4851e-41,  2.6925e-08],\n",
              "        [ 0.0000e+00,  1.4574e-43,  6.4460e-44]])"
            ]
          },
          "metadata": {},
          "execution_count": 8
        }
      ]
    },
    {
      "cell_type": "code",
      "source": [
        "a = torch.zeros(2,3)\n",
        "b = torch.ones(2,3)\n",
        "c = torch.rand(2,3)\n",
        "torch.manual_seed(100)\n",
        "d = torch.rand(2,3)\n",
        "print (a,b,c,d)\n"
      ],
      "metadata": {
        "colab": {
          "base_uri": "https://localhost:8080/"
        },
        "id": "bk0W5_hylMnm",
        "outputId": "b78870a2-3ac5-4228-8e80-0674298bd394"
      },
      "execution_count": 16,
      "outputs": [
        {
          "output_type": "stream",
          "name": "stdout",
          "text": [
            "tensor([[0., 0., 0.],\n",
            "        [0., 0., 0.]]) tensor([[1., 1., 1.],\n",
            "        [1., 1., 1.]]) tensor([[0.2627, 0.0428, 0.2080],\n",
            "        [0.1180, 0.1217, 0.7356]]) tensor([[0.1117, 0.8158, 0.2626],\n",
            "        [0.4839, 0.6765, 0.7539]])\n"
          ]
        }
      ]
    },
    {
      "cell_type": "code",
      "source": [
        "torch.tensor([1,2,3],[1,2,3])"
      ],
      "metadata": {
        "id": "5ob2aBrbluUM"
      },
      "execution_count": null,
      "outputs": []
    },
    {
      "cell_type": "code",
      "source": [
        "print (torch.linspace(0,10,5)) #zero to 10 in 5 random steps evenlly spaced\n",
        "print(torch.arange(0,5))  #zero to 5 creating a tensor\n",
        "print (type(torch.arange(0,3)))"
      ],
      "metadata": {
        "colab": {
          "base_uri": "https://localhost:8080/"
        },
        "id": "bpk-TeUfmnAQ",
        "outputId": "c6fd0f24-e484-4566-ccaf-1498b33ffecb"
      },
      "execution_count": 29,
      "outputs": [
        {
          "output_type": "stream",
          "name": "stdout",
          "text": [
            "tensor([ 0.0000,  2.5000,  5.0000,  7.5000, 10.0000])\n",
            "tensor([0, 1, 2, 3, 4])\n",
            "<class 'torch.Tensor'>\n"
          ]
        }
      ]
    },
    {
      "cell_type": "code",
      "source": [
        "print(torch.eye(5)) #return identity matrix\n",
        "print(torch.eye(3))\n",
        "print (torch.eye(1,3))\n",
        "print (torch.full((3,3),5))\n",
        "print (torch.full((2,2),5))\n",
        "print (torch.full((3,2),1))"
      ],
      "metadata": {
        "colab": {
          "base_uri": "https://localhost:8080/"
        },
        "id": "iPWvn3_DpkEN",
        "outputId": "4758eee1-7629-4872-d011-c0bc17070780"
      },
      "execution_count": 35,
      "outputs": [
        {
          "output_type": "stream",
          "name": "stdout",
          "text": [
            "tensor([[1., 0., 0., 0., 0.],\n",
            "        [0., 1., 0., 0., 0.],\n",
            "        [0., 0., 1., 0., 0.],\n",
            "        [0., 0., 0., 1., 0.],\n",
            "        [0., 0., 0., 0., 1.]])\n",
            "tensor([[1., 0., 0.],\n",
            "        [0., 1., 0.],\n",
            "        [0., 0., 1.]])\n",
            "tensor([[1., 0., 0.]])\n",
            "tensor([[5, 5, 5],\n",
            "        [5, 5, 5],\n",
            "        [5, 5, 5]])\n",
            "tensor([[5, 5],\n",
            "        [5, 5]])\n",
            "tensor([[1, 1],\n",
            "        [1, 1],\n",
            "        [1, 1]])\n"
          ]
        }
      ]
    },
    {
      "cell_type": "markdown",
      "source": [
        "tensor shape"
      ],
      "metadata": {
        "id": "2PuI6DQcqVW0"
      }
    },
    {
      "cell_type": "code",
      "source": [
        "x = torch.tensor([[1,2],[2,2]])\n",
        "print (x.shape)"
      ],
      "metadata": {
        "colab": {
          "base_uri": "https://localhost:8080/"
        },
        "id": "EVKfc2xWpRlc",
        "outputId": "e6d2f924-3867-4741-8824-390d1963c16c"
      },
      "execution_count": 36,
      "outputs": [
        {
          "output_type": "stream",
          "name": "stdout",
          "text": [
            "torch.Size([2, 2])\n"
          ]
        }
      ]
    },
    {
      "cell_type": "markdown",
      "source": [
        "creating similar tensor"
      ],
      "metadata": {
        "id": "cEhOkfwHqliW"
      }
    },
    {
      "cell_type": "code",
      "source": [
        "x = torch.tensor([[1,2],[2,2]])\n",
        "p = torch.empty_like(x)\n",
        "print (p)\n",
        "print (torch.zeros_like(x))\n",
        "print (torch.ones_like(x))\n",
        "print (torch.rand_like(x,dtype=torch.float))"
      ],
      "metadata": {
        "colab": {
          "base_uri": "https://localhost:8080/"
        },
        "id": "Idkd4dOhqk62",
        "outputId": "0a924544-cefc-43a1-ce36-9d6976bad628"
      },
      "execution_count": 51,
      "outputs": [
        {
          "output_type": "stream",
          "name": "stdout",
          "text": [
            "tensor([[       10791152, 137466723030848],\n",
            "        [137466723030800, 137471395269680]])\n",
            "tensor([[0, 0],\n",
            "        [0, 0]])\n",
            "tensor([[1, 1],\n",
            "        [1, 1]])\n",
            "tensor([[0.2627, 0.0428],\n",
            "        [0.2080, 0.1180]])\n"
          ]
        }
      ]
    },
    {
      "cell_type": "markdown",
      "source": [
        "tensor data type"
      ],
      "metadata": {
        "id": "eK-Iy7pKrxG7"
      }
    },
    {
      "cell_type": "code",
      "source": [
        "print(x.dtype)\n",
        "print(torch.tensor([1.0,2.0,3],dtype=torch.int64))\n",
        "print(torch.tensor([1.0,2.0,3],dtype=torch.float32))\n",
        "print(x.to(torch.float32))"
      ],
      "metadata": {
        "colab": {
          "base_uri": "https://localhost:8080/"
        },
        "id": "X-_wQHPDqULP",
        "outputId": "faa1f409-5eac-4957-84cc-2525dfc9b011"
      },
      "execution_count": 50,
      "outputs": [
        {
          "output_type": "stream",
          "name": "stdout",
          "text": [
            "torch.int64\n",
            "tensor([1, 2, 3])\n",
            "tensor([1., 2., 3.])\n",
            "tensor([[1., 2.],\n",
            "        [2., 2.]])\n"
          ]
        }
      ]
    },
    {
      "cell_type": "markdown",
      "source": [
        "mathmetical operation"
      ],
      "metadata": {
        "id": "u65blZFTsxcX"
      }
    },
    {
      "cell_type": "code",
      "source": [
        "x = torch.rand(2,2)\n",
        "y = torch.ones(2,2)\n",
        "print (x,y)\n",
        "print (y+2)\n",
        "print (y-1)\n",
        "print(y*3)\n",
        "print(y/2)\n",
        "print(y**2)"
      ],
      "metadata": {
        "colab": {
          "base_uri": "https://localhost:8080/"
        },
        "id": "KoBfS0ktszuh",
        "outputId": "c5aeafa4-707a-4f48-cf8e-1478807415e9"
      },
      "execution_count": 55,
      "outputs": [
        {
          "output_type": "stream",
          "name": "stdout",
          "text": [
            "tensor([[0.5557, 0.9770],\n",
            "        [0.4440, 0.9478]]) tensor([[1., 1.],\n",
            "        [1., 1.]])\n",
            "tensor([[3., 3.],\n",
            "        [3., 3.]])\n",
            "tensor([[0., 0.],\n",
            "        [0., 0.]])\n",
            "tensor([[3., 3.],\n",
            "        [3., 3.]])\n",
            "tensor([[0.5000, 0.5000],\n",
            "        [0.5000, 0.5000]])\n",
            "tensor([[1., 1.],\n",
            "        [1., 1.]])\n"
          ]
        }
      ]
    },
    {
      "cell_type": "markdown",
      "source": [],
      "metadata": {
        "id": "oFeCJe3Ts1ZU"
      }
    },
    {
      "cell_type": "code",
      "source": [
        "a = torch.full((2,2),2)\n",
        "b = torch.full((2,2),4)\n",
        "print (a,b)\n",
        "print (a+b)\n",
        "print (a-b)\n",
        "print (a*b)\n",
        "print (a/b)\n",
        "\n",
        "c = torch.tensor([1,-2,.3,-5])\n",
        "print (torch.abs(c))\n",
        "print (torch.neg(c))\n",
        "print (torch.round(c))\n",
        "print (torch.ceil(c))\n",
        "print (torch.floor(c))\n",
        "print (torch.clamp(c, min = 0,max = 2))# keeping in a specified range\n",
        "\n"
      ],
      "metadata": {
        "colab": {
          "base_uri": "https://localhost:8080/"
        },
        "id": "d83HhwUms06I",
        "outputId": "5c04992a-060f-441a-b58f-e96e65011227"
      },
      "execution_count": 74,
      "outputs": [
        {
          "output_type": "stream",
          "name": "stdout",
          "text": [
            "tensor([[2, 2],\n",
            "        [2, 2]]) tensor([[4, 4],\n",
            "        [4, 4]])\n",
            "tensor([[6, 6],\n",
            "        [6, 6]])\n",
            "tensor([[-2, -2],\n",
            "        [-2, -2]])\n",
            "tensor([[8, 8],\n",
            "        [8, 8]])\n",
            "tensor([[0.5000, 0.5000],\n",
            "        [0.5000, 0.5000]])\n",
            "tensor([1.0000, 2.0000, 0.3000, 5.0000])\n",
            "tensor([-1.0000,  2.0000, -0.3000,  5.0000])\n",
            "tensor([ 1., -2.,  0., -5.])\n",
            "tensor([ 1., -2.,  1., -5.])\n",
            "tensor([ 1., -2.,  0., -5.])\n",
            "tensor([1.0000, 0.0000, 0.3000, 0.0000])\n"
          ]
        }
      ]
    },
    {
      "cell_type": "markdown",
      "source": [],
      "metadata": {
        "id": "Po03dVsWs0oy"
      }
    },
    {
      "cell_type": "markdown",
      "source": [
        "reductin method\n"
      ],
      "metadata": {
        "id": "x6-rr0C2wVj9"
      }
    },
    {
      "cell_type": "code",
      "source": [
        "c = torch.tensor([1,2,3,5],dtype=float)\n",
        "print (torch.sum(a))\n",
        "print (torch.sum(b))\n",
        "print (torch.sum(a,dim = 0)) #sum according to axis\n",
        "print(torch.sum(a,dim = 1))\n",
        "print(torch.mean(c))\n",
        "print(torch.mean(c,dim = 0)) #means based on column\n",
        "print(torch.median(a))\n",
        "print(torch.max(c))\n",
        "print(torch.min(c))\n",
        "print (torch.prod(a))\n",
        "print (torch.std(c))\n",
        "a = torch.full((2,2),2)\n",
        "b = torch.full((2,2),4)\n",
        "print (torch.var(c))\n",
        "print (torch.argmax(c))\n",
        "print (torch.argmin(c))"
      ],
      "metadata": {
        "colab": {
          "base_uri": "https://localhost:8080/"
        },
        "id": "zNUPKr2nwZcw",
        "outputId": "87fef843-bbc8-4ea2-e64d-1f00ae070cec"
      },
      "execution_count": 77,
      "outputs": [
        {
          "output_type": "stream",
          "name": "stdout",
          "text": [
            "tensor(8)\n",
            "tensor(16)\n",
            "tensor([4, 4])\n",
            "tensor([4, 4])\n",
            "tensor(2.7500, dtype=torch.float64)\n",
            "tensor(2.7500, dtype=torch.float64)\n",
            "tensor(2)\n",
            "tensor(5., dtype=torch.float64)\n",
            "tensor(1., dtype=torch.float64)\n",
            "tensor(16)\n",
            "tensor(1.7078, dtype=torch.float64)\n",
            "tensor(2.9167, dtype=torch.float64)\n",
            "tensor(3)\n",
            "tensor(0)\n"
          ]
        }
      ]
    },
    {
      "cell_type": "code",
      "source": [
        "trix operations"
      ],
      "metadata": {
        "id": "Rg8mHQw8ydbN"
      },
      "execution_count": null,
      "outputs": []
    },
    {
      "cell_type": "code",
      "source": [
        "a = torch.full((2,2),2)\n",
        "b = torch.full((2,2),4)\n",
        "print (torch.matmul(a,b))\n",
        "vector1 = torch.tensor([1,2])\n",
        "vector2 = torch.tensor([3,4])\n",
        "print (vector1,vector2)\n",
        "print (torch.dot(vector1,vector2))\n",
        "print (torch.matmul(vector1,vector2))\n",
        "\n",
        "\n",
        "############transpose\n",
        "h = torch.randint(size =(4,4),low = 0,high = 10,dtype =float)\n",
        "print (h)\n",
        "print (torch.transpose(h,0,1))\n",
        "print (torch.det(h))"
      ],
      "metadata": {
        "colab": {
          "base_uri": "https://localhost:8080/"
        },
        "id": "uKjrurivyevM",
        "outputId": "5d0da823-9d0f-4089-f193-5233a79fa75e"
      },
      "execution_count": 87,
      "outputs": [
        {
          "output_type": "stream",
          "name": "stdout",
          "text": [
            "tensor([[16, 16],\n",
            "        [16, 16]])\n",
            "tensor([1, 2]) tensor([3, 4])\n",
            "tensor(11)\n",
            "tensor(11)\n",
            "tensor([[8., 4., 7., 2.],\n",
            "        [3., 8., 5., 6.],\n",
            "        [2., 9., 5., 0.],\n",
            "        [4., 2., 7., 1.]], dtype=torch.float64)\n",
            "tensor([[8., 3., 2., 4.],\n",
            "        [4., 8., 9., 2.],\n",
            "        [7., 5., 5., 7.],\n",
            "        [2., 6., 0., 1.]], dtype=torch.float64)\n",
            "tensor(1267., dtype=torch.float64)\n"
          ]
        }
      ]
    },
    {
      "cell_type": "markdown",
      "source": [],
      "metadata": {
        "id": "-fBJRoi2ycvp"
      }
    },
    {
      "cell_type": "markdown",
      "source": [
        "comparison operation"
      ],
      "metadata": {
        "id": "VrUuMSoi0VRo"
      }
    },
    {
      "cell_type": "code",
      "source": [
        "h = torch.randint(size =(4,4),low = 0,high = 10,dtype =float)\n",
        "f = torch.randint(size =(4,4),low = 0,high = 10,dtype =float)\n",
        "print (h)\n",
        "print (f)\n",
        "print (f>h)\n",
        "print (f==h)\n",
        "print (f!=h)\n",
        "\n",
        "print (torch.log(h))\n",
        "print (torch.exp(h))\n",
        "print (torch.sqrt(h))\n",
        "print (torch.sigmoid(h))\n",
        "print (torch.softmax(h,dim = 0))\n",
        "print (torch.relu(h))"
      ],
      "metadata": {
        "colab": {
          "base_uri": "https://localhost:8080/"
        },
        "id": "YJlQ16TU0YGE",
        "outputId": "524f50bb-3be6-4b04-b51c-c285fcc7c5b8"
      },
      "execution_count": 94,
      "outputs": [
        {
          "output_type": "stream",
          "name": "stdout",
          "text": [
            "tensor([[0., 3., 3., 4.],\n",
            "        [8., 8., 1., 2.],\n",
            "        [4., 9., 4., 0.],\n",
            "        [9., 7., 5., 0.]], dtype=torch.float64)\n",
            "tensor([[6., 7., 7., 8.],\n",
            "        [8., 9., 6., 2.],\n",
            "        [9., 4., 5., 5.],\n",
            "        [3., 5., 0., 7.]], dtype=torch.float64)\n",
            "tensor([[ True,  True,  True,  True],\n",
            "        [False,  True,  True, False],\n",
            "        [ True, False,  True,  True],\n",
            "        [False, False, False,  True]])\n",
            "tensor([[False, False, False, False],\n",
            "        [ True, False, False,  True],\n",
            "        [False, False, False, False],\n",
            "        [False, False, False, False]])\n",
            "tensor([[ True,  True,  True,  True],\n",
            "        [False,  True,  True, False],\n",
            "        [ True,  True,  True,  True],\n",
            "        [ True,  True,  True,  True]])\n",
            "tensor([[  -inf, 1.0986, 1.0986, 1.3863],\n",
            "        [2.0794, 2.0794, 0.0000, 0.6931],\n",
            "        [1.3863, 2.1972, 1.3863,   -inf],\n",
            "        [2.1972, 1.9459, 1.6094,   -inf]], dtype=torch.float64)\n",
            "tensor([[1.0000e+00, 2.0086e+01, 2.0086e+01, 5.4598e+01],\n",
            "        [2.9810e+03, 2.9810e+03, 2.7183e+00, 7.3891e+00],\n",
            "        [5.4598e+01, 8.1031e+03, 5.4598e+01, 1.0000e+00],\n",
            "        [8.1031e+03, 1.0966e+03, 1.4841e+02, 1.0000e+00]], dtype=torch.float64)\n",
            "tensor([[0.0000, 1.7321, 1.7321, 2.0000],\n",
            "        [2.8284, 2.8284, 1.0000, 1.4142],\n",
            "        [2.0000, 3.0000, 2.0000, 0.0000],\n",
            "        [3.0000, 2.6458, 2.2361, 0.0000]], dtype=torch.float64)\n",
            "tensor([[0.5000, 0.9526, 0.9526, 0.9820],\n",
            "        [0.9997, 0.9997, 0.7311, 0.8808],\n",
            "        [0.9820, 0.9999, 0.9820, 0.5000],\n",
            "        [0.9999, 0.9991, 0.9933, 0.5000]], dtype=torch.float64)\n",
            "tensor([[8.9770e-05, 1.6463e-03, 8.8947e-02, 8.5327e-01],\n",
            "        [2.6760e-01, 2.4433e-01, 1.2038e-02, 1.1548e-01],\n",
            "        [4.9012e-03, 6.6415e-01, 2.4178e-01, 1.5628e-02],\n",
            "        [7.2741e-01, 8.9882e-02, 6.5723e-01, 1.5628e-02]], dtype=torch.float64)\n",
            "tensor([[0., 3., 3., 4.],\n",
            "        [8., 8., 1., 2.],\n",
            "        [4., 9., 4., 0.],\n",
            "        [9., 7., 5., 0.]], dtype=torch.float64)\n"
          ]
        }
      ]
    },
    {
      "cell_type": "markdown",
      "source": [
        "inplace operation"
      ],
      "metadata": {
        "id": "CpVaHX5U1YIO"
      }
    },
    {
      "cell_type": "code",
      "source": [
        "m = torch.rand(2,3)\n",
        "n = torch.rand(2,3)\n",
        "print (m)\n",
        "print (n)\n",
        "\n",
        "#add m+n and stroe in m\n",
        "print (m.add_(n))\n",
        "print (m)\n",
        "\n",
        "#### user method_ to make inplace operations"
      ],
      "metadata": {
        "colab": {
          "base_uri": "https://localhost:8080/"
        },
        "id": "V_MiDvPj1amy",
        "outputId": "c720dbf2-d7c7-4f57-f623-10289ada10d5"
      },
      "execution_count": 97,
      "outputs": [
        {
          "output_type": "stream",
          "name": "stdout",
          "text": [
            "tensor([[0.0257, 0.4205, 0.0656],\n",
            "        [0.4508, 0.0553, 0.3140]])\n",
            "tensor([[0.7460, 0.9357, 0.8925],\n",
            "        [0.1370, 0.1803, 0.4023]])\n",
            "tensor([[0.7717, 1.3562, 0.9581],\n",
            "        [0.5879, 0.2357, 0.7162]])\n",
            "tensor([[0.7717, 1.3562, 0.9581],\n",
            "        [0.5879, 0.2357, 0.7162]])\n"
          ]
        }
      ]
    },
    {
      "cell_type": "markdown",
      "source": [
        "copy tensor"
      ],
      "metadata": {
        "id": "aQzbLRhX2Sv0"
      }
    },
    {
      "cell_type": "code",
      "source": [
        "a =torch.rand(2,3)\n",
        "b=a\n",
        "print (a,b)\n",
        "a[0][0] = 0\n",
        "print (a,b)  # this is problem as changes made in a get affected in b\n",
        "\n",
        "c = a.clone()  # right method  check id (a) and id (b)"
      ],
      "metadata": {
        "colab": {
          "base_uri": "https://localhost:8080/"
        },
        "id": "cjwCtEev2UxL",
        "outputId": "3831de74-a534-42d0-bb13-9f6229c557af"
      },
      "execution_count": 99,
      "outputs": [
        {
          "output_type": "stream",
          "name": "stdout",
          "text": [
            "tensor([[0.4296, 0.3692, 0.1611],\n",
            "        [0.9422, 0.8777, 0.5321]]) tensor([[0.4296, 0.3692, 0.1611],\n",
            "        [0.9422, 0.8777, 0.5321]])\n",
            "tensor([[0.0000, 0.3692, 0.1611],\n",
            "        [0.9422, 0.8777, 0.5321]]) tensor([[0.0000, 0.3692, 0.1611],\n",
            "        [0.9422, 0.8777, 0.5321]])\n"
          ]
        }
      ]
    },
    {
      "cell_type": "markdown",
      "source": [
        "check gpu"
      ],
      "metadata": {
        "id": "JGGbyKTN3GlP"
      }
    },
    {
      "cell_type": "code",
      "source": [
        "torch.cuda.is_available()\n",
        "device1 = torch.device('cuda')\n",
        "torch.rand((2,2), device=device1)"
      ],
      "metadata": {
        "colab": {
          "base_uri": "https://localhost:8080/",
          "height": 315
        },
        "id": "jgUA9Tdz3Jyp",
        "outputId": "7cb48aaa-4ce8-4d7a-f4a1-f0478cdb2e92"
      },
      "execution_count": 107,
      "outputs": [
        {
          "output_type": "error",
          "ename": "RuntimeError",
          "evalue": "Found no NVIDIA driver on your system. Please check that you have an NVIDIA GPU and installed a driver from http://www.nvidia.com/Download/index.aspx",
          "traceback": [
            "\u001b[0;31m---------------------------------------------------------------------------\u001b[0m",
            "\u001b[0;31mRuntimeError\u001b[0m                              Traceback (most recent call last)",
            "\u001b[0;32m<ipython-input-107-e2748cbc0354>\u001b[0m in \u001b[0;36m<cell line: 0>\u001b[0;34m()\u001b[0m\n\u001b[1;32m      1\u001b[0m \u001b[0mtorch\u001b[0m\u001b[0;34m.\u001b[0m\u001b[0mcuda\u001b[0m\u001b[0;34m.\u001b[0m\u001b[0mis_available\u001b[0m\u001b[0;34m(\u001b[0m\u001b[0;34m)\u001b[0m\u001b[0;34m\u001b[0m\u001b[0;34m\u001b[0m\u001b[0m\n\u001b[1;32m      2\u001b[0m \u001b[0mdevice1\u001b[0m \u001b[0;34m=\u001b[0m \u001b[0mtorch\u001b[0m\u001b[0;34m.\u001b[0m\u001b[0mdevice\u001b[0m\u001b[0;34m(\u001b[0m\u001b[0;34m'cuda'\u001b[0m\u001b[0;34m)\u001b[0m\u001b[0;34m\u001b[0m\u001b[0;34m\u001b[0m\u001b[0m\n\u001b[0;32m----> 3\u001b[0;31m \u001b[0mtorch\u001b[0m\u001b[0;34m.\u001b[0m\u001b[0mrand\u001b[0m\u001b[0;34m(\u001b[0m\u001b[0;34m(\u001b[0m\u001b[0;36m2\u001b[0m\u001b[0;34m,\u001b[0m\u001b[0;36m2\u001b[0m\u001b[0;34m)\u001b[0m\u001b[0;34m,\u001b[0m \u001b[0mdevice\u001b[0m\u001b[0;34m=\u001b[0m\u001b[0mdevice1\u001b[0m\u001b[0;34m)\u001b[0m\u001b[0;34m\u001b[0m\u001b[0;34m\u001b[0m\u001b[0m\n\u001b[0m",
            "\u001b[0;32m/usr/local/lib/python3.11/dist-packages/torch/cuda/__init__.py\u001b[0m in \u001b[0;36m_lazy_init\u001b[0;34m()\u001b[0m\n\u001b[1;32m    317\u001b[0m         \u001b[0;32mif\u001b[0m \u001b[0;34m\"CUDA_MODULE_LOADING\"\u001b[0m \u001b[0;32mnot\u001b[0m \u001b[0;32min\u001b[0m \u001b[0mos\u001b[0m\u001b[0;34m.\u001b[0m\u001b[0menviron\u001b[0m\u001b[0;34m:\u001b[0m\u001b[0;34m\u001b[0m\u001b[0;34m\u001b[0m\u001b[0m\n\u001b[1;32m    318\u001b[0m             \u001b[0mos\u001b[0m\u001b[0;34m.\u001b[0m\u001b[0menviron\u001b[0m\u001b[0;34m[\u001b[0m\u001b[0;34m\"CUDA_MODULE_LOADING\"\u001b[0m\u001b[0;34m]\u001b[0m \u001b[0;34m=\u001b[0m \u001b[0;34m\"LAZY\"\u001b[0m\u001b[0;34m\u001b[0m\u001b[0;34m\u001b[0m\u001b[0m\n\u001b[0;32m--> 319\u001b[0;31m         \u001b[0mtorch\u001b[0m\u001b[0;34m.\u001b[0m\u001b[0m_C\u001b[0m\u001b[0;34m.\u001b[0m\u001b[0m_cuda_init\u001b[0m\u001b[0;34m(\u001b[0m\u001b[0;34m)\u001b[0m\u001b[0;34m\u001b[0m\u001b[0;34m\u001b[0m\u001b[0m\n\u001b[0m\u001b[1;32m    320\u001b[0m         \u001b[0;31m# Some of the queued calls may reentrantly call _lazy_init();\u001b[0m\u001b[0;34m\u001b[0m\u001b[0;34m\u001b[0m\u001b[0m\n\u001b[1;32m    321\u001b[0m         \u001b[0;31m# we need to just return without initializing in that case.\u001b[0m\u001b[0;34m\u001b[0m\u001b[0;34m\u001b[0m\u001b[0m\n",
            "\u001b[0;31mRuntimeError\u001b[0m: Found no NVIDIA driver on your system. Please check that you have an NVIDIA GPU and installed a driver from http://www.nvidia.com/Download/index.aspx"
          ]
        }
      ]
    },
    {
      "cell_type": "markdown",
      "source": [
        "gpu vs cpu"
      ],
      "metadata": {
        "id": "H3BrvIra4ABw"
      }
    },
    {
      "cell_type": "code",
      "source": [
        "import time\n",
        "matrix1  =torch.randn(1000,1000)\n",
        "matrix2 = torch.randn(1000,1000)\n",
        "start_time = time.time()\n",
        "result = torch.matmul(matrix1,matrix2)\n",
        "\n",
        "gpu_time = time.time()-start_time\n",
        "print (gpu_time)"
      ],
      "metadata": {
        "colab": {
          "base_uri": "https://localhost:8080/"
        },
        "id": "Te7w1Jlr4EVs",
        "outputId": "d1558445-ecc8-42c1-c395-e5ea360d5414"
      },
      "execution_count": 109,
      "outputs": [
        {
          "output_type": "stream",
          "name": "stdout",
          "text": [
            "0.06020975112915039\n"
          ]
        }
      ]
    },
    {
      "cell_type": "markdown",
      "source": [
        "reshaping operations"
      ],
      "metadata": {
        "id": "O9TRxwPl5FFJ"
      }
    },
    {
      "cell_type": "code",
      "source": [
        "a = torch.ones(4,4)\n",
        "print (a.reshape(2,2,2,2))\n",
        "\n",
        "print (a.flatten())\n",
        "\n",
        "c = torch.rand(226,226,3)\n",
        "print (c.unsqueeze(0).shape)\n",
        "print (c.unsqueeze(2).shape)  #similar we have sqeeze\n",
        "\n"
      ],
      "metadata": {
        "colab": {
          "base_uri": "https://localhost:8080/"
        },
        "collapsed": true,
        "id": "8qZPHdGV5HzM",
        "outputId": "f90fd365-f3c5-4784-db08-d426abf60495"
      },
      "execution_count": 121,
      "outputs": [
        {
          "output_type": "stream",
          "name": "stdout",
          "text": [
            "tensor([[[[1., 1.],\n",
            "          [1., 1.]],\n",
            "\n",
            "         [[1., 1.],\n",
            "          [1., 1.]]],\n",
            "\n",
            "\n",
            "        [[[1., 1.],\n",
            "          [1., 1.]],\n",
            "\n",
            "         [[1., 1.],\n",
            "          [1., 1.]]]])\n",
            "tensor([1., 1., 1., 1., 1., 1., 1., 1., 1., 1., 1., 1., 1., 1., 1., 1.])\n",
            "torch.Size([1, 226, 226, 3])\n",
            "tensor([[[[0.3900, 0.7244, 0.0455]],\n",
            "\n",
            "         [[0.3638, 0.3444, 0.1089]],\n",
            "\n",
            "         [[0.6645, 0.1778, 0.8992]],\n",
            "\n",
            "         ...,\n",
            "\n",
            "         [[0.2539, 0.2832, 0.6308]],\n",
            "\n",
            "         [[0.6229, 0.0888, 0.0252]],\n",
            "\n",
            "         [[0.4848, 0.9366, 0.5236]]],\n",
            "\n",
            "\n",
            "        [[[0.9700, 0.9732, 0.1282]],\n",
            "\n",
            "         [[0.8604, 0.3080, 0.2053]],\n",
            "\n",
            "         [[0.4868, 0.1272, 0.3009]],\n",
            "\n",
            "         ...,\n",
            "\n",
            "         [[0.4648, 0.4217, 0.1947]],\n",
            "\n",
            "         [[0.1844, 0.7690, 0.8243]],\n",
            "\n",
            "         [[0.4315, 0.3121, 0.6029]]],\n",
            "\n",
            "\n",
            "        [[[0.9979, 0.1081, 0.7758]],\n",
            "\n",
            "         [[0.0354, 0.9395, 0.7149]],\n",
            "\n",
            "         [[0.7726, 0.4131, 0.7584]],\n",
            "\n",
            "         ...,\n",
            "\n",
            "         [[0.4117, 0.5848, 0.0488]],\n",
            "\n",
            "         [[0.8143, 0.4023, 0.0366]],\n",
            "\n",
            "         [[0.3522, 0.4516, 0.8704]]],\n",
            "\n",
            "\n",
            "        ...,\n",
            "\n",
            "\n",
            "        [[[0.3563, 0.6939, 0.6668]],\n",
            "\n",
            "         [[0.9255, 0.3604, 0.8108]],\n",
            "\n",
            "         [[0.0814, 0.2409, 0.9583]],\n",
            "\n",
            "         ...,\n",
            "\n",
            "         [[0.9176, 0.4564, 0.8634]],\n",
            "\n",
            "         [[0.1086, 0.4288, 0.1743]],\n",
            "\n",
            "         [[0.7929, 0.4707, 0.2185]]],\n",
            "\n",
            "\n",
            "        [[[0.3443, 0.8530, 0.9969]],\n",
            "\n",
            "         [[0.7121, 0.9638, 0.2035]],\n",
            "\n",
            "         [[0.0218, 0.7006, 0.2076]],\n",
            "\n",
            "         ...,\n",
            "\n",
            "         [[0.8947, 0.7883, 0.4344]],\n",
            "\n",
            "         [[0.4567, 0.0616, 0.5680]],\n",
            "\n",
            "         [[0.3823, 0.5141, 0.1798]]],\n",
            "\n",
            "\n",
            "        [[[0.0644, 0.9008, 0.0413]],\n",
            "\n",
            "         [[0.0459, 0.0539, 0.9513]],\n",
            "\n",
            "         [[0.8283, 0.8855, 0.4783]],\n",
            "\n",
            "         ...,\n",
            "\n",
            "         [[0.7594, 0.8232, 0.0694]],\n",
            "\n",
            "         [[0.7060, 0.8176, 0.5296]],\n",
            "\n",
            "         [[0.9660, 0.8407, 0.3367]]]])\n"
          ]
        }
      ]
    },
    {
      "cell_type": "markdown",
      "source": [
        "numpy and pytorch  conversion"
      ],
      "metadata": {
        "id": "Dg1yZMC36h6p"
      }
    },
    {
      "cell_type": "code",
      "source": [
        "import numpy as np\n",
        "\n",
        "a = torch.tensor([1,2,3,4])\n",
        "b = a.numpy()\n",
        "c = a.numpy()\n",
        "print (b)\n",
        "print (type(b))\n",
        "\n",
        "print(torch.from_numpy(c))"
      ],
      "metadata": {
        "colab": {
          "base_uri": "https://localhost:8080/"
        },
        "id": "VrPRSEf56k4E",
        "outputId": "d31255db-cf5b-4414-e786-7e3105f72411"
      },
      "execution_count": 129,
      "outputs": [
        {
          "output_type": "stream",
          "name": "stdout",
          "text": [
            "[1 2 3 4]\n",
            "<class 'numpy.ndarray'>\n",
            "tensor([1, 2, 3, 4])\n"
          ]
        }
      ]
    }
  ]
}